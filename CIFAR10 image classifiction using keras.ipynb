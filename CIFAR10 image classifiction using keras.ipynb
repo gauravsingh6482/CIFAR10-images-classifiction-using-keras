{
  "nbformat": 4,
  "nbformat_minor": 0,
  "metadata": {
    "colab": {
      "name": "CIFAR10(1).ipynb",
      "provenance": []
    },
    "kernelspec": {
      "name": "python3",
      "display_name": "Python 3"
    },
    "accelerator": "GPU"
  },
  "cells": [
    {
      "cell_type": "markdown",
      "metadata": {
        "id": "TV1K2AZPYCA8",
        "colab_type": "text"
      },
      "source": [
        "#Image classifiction using CIFAR10 dataset"
      ]
    },
    {
      "cell_type": "markdown",
      "metadata": {
        "id": "35b6KCnpYBo3",
        "colab_type": "text"
      },
      "source": [
        "##In this project we are train our Convolutional Neural Networks (Deep learning) model. we are using in this project CIRAR10 image dataset and we are using Keras library to train our model"
      ]
    },
    {
      "cell_type": "code",
      "metadata": {
        "id": "qfINj8yJOy4f",
        "colab_type": "code",
        "colab": {
          "base_uri": "https://localhost:8080/",
          "height": 34
        },
        "outputId": "35e5a6f4-adb4-4e87-b4fb-c07389919fcb"
      },
      "source": [
        "# Importing Libaries\n",
        "import keras\n",
        "import tensorflow as tf\n",
        "from keras.datasets import cifar10\n",
        "from tensorflow import keras\n",
        "from tensorflow.keras.optimizers import RMSprop\n",
        "import matplotlib.pyplot as plt"
      ],
      "execution_count": 1,
      "outputs": [
        {
          "output_type": "stream",
          "text": [
            "Using TensorFlow backend.\n"
          ],
          "name": "stderr"
        }
      ]
    },
    {
      "cell_type": "code",
      "metadata": {
        "id": "ylKKPGzYPMOm",
        "colab_type": "code",
        "colab": {
          "base_uri": "https://localhost:8080/",
          "height": 51
        },
        "outputId": "28b1b30c-02af-4a7e-9d0b-fcc9d70cd511"
      },
      "source": [
        "# Split the dataset\n",
        "(X_train , y_train) , (X_test , y_test)=cifar10.load_data()"
      ],
      "execution_count": 2,
      "outputs": [
        {
          "output_type": "stream",
          "text": [
            "Downloading data from https://www.cs.toronto.edu/~kriz/cifar-10-python.tar.gz\n",
            "170500096/170498071 [==============================] - 6s 0us/step\n"
          ],
          "name": "stdout"
        }
      ]
    },
    {
      "cell_type": "code",
      "metadata": {
        "id": "un5ccVtypOE6",
        "colab_type": "code",
        "colab": {
          "base_uri": "https://localhost:8080/",
          "height": 34
        },
        "outputId": "88b09c3c-2a9e-4a7c-c146-57b09c11580a"
      },
      "source": [
        "print(X_train.shape)"
      ],
      "execution_count": 3,
      "outputs": [
        {
          "output_type": "stream",
          "text": [
            "(50000, 32, 32, 3)\n"
          ],
          "name": "stdout"
        }
      ]
    },
    {
      "cell_type": "code",
      "metadata": {
        "id": "EySJoCOuPq0d",
        "colab_type": "code",
        "colab": {
          "base_uri": "https://localhost:8080/",
          "height": 283
        },
        "outputId": "5aa6251e-864b-42d9-dc70-89dba39f7c8c"
      },
      "source": [
        "plt.imshow(X_train[5])"
      ],
      "execution_count": 4,
      "outputs": [
        {
          "output_type": "execute_result",
          "data": {
            "text/plain": [
              "<matplotlib.image.AxesImage at 0x7f3852bb0c18>"
            ]
          },
          "metadata": {
            "tags": []
          },
          "execution_count": 4
        },
        {
          "output_type": "display_data",
          "data": {
            "image/png": "[encoded data removed]",
            "text/plain": [
              "<Figure size 432x288 with 1 Axes>"
            ]
          },
          "metadata": {
            "tags": [],
            "needs_background": "light"
          }
        }
      ]
    },
    {
      "cell_type": "code",
      "metadata": {
        "id": "9kFr_6CqP5yS",
        "colab_type": "code",
        "colab": {
          "base_uri": "https://localhost:8080/",
          "height": 850
        },
        "outputId": "90a69a1a-e469-47fc-fecc-d47883b5767f"
      },
      "source": [
        "print(X_train[5])"
      ],
      "execution_count": 5,
      "outputs": [
        {
          "output_type": "stream",
          "text": [
            "[[[159 102 101]\n",
            "  [150  91  95]\n",
            "  [153  95  97]\n",
            "  ...\n",
            "  [ 91  71  56]\n",
            "  [ 74  63  55]\n",
            "  [ 76  58  55]]\n",
            "\n",
            " [[142  75  68]\n",
            "  [146  72  66]\n",
            "  [155  76  65]\n",
            "  ...\n",
            "  [127 105  71]\n",
            "  [122 111  93]\n",
            "  [ 86  69  61]]\n",
            "\n",
            " [[109  67  75]\n",
            "  [ 99  58  60]\n",
            "  [105  59  52]\n",
            "  ...\n",
            "  [137 112  80]\n",
            "  [163 132 105]\n",
            "  [ 93  72  71]]\n",
            "\n",
            " ...\n",
            "\n",
            " [[244 129  70]\n",
            "  [240 123  65]\n",
            "  [241 122  65]\n",
            "  ...\n",
            "  [156  42  15]\n",
            "  [179  59  26]\n",
            "  [200  73  36]]\n",
            "\n",
            " [[246 133  74]\n",
            "  [243 128  72]\n",
            "  [243 127  70]\n",
            "  ...\n",
            "  [162  44  14]\n",
            "  [178  56  22]\n",
            "  [192  65  27]]\n",
            "\n",
            " [[246 139  82]\n",
            "  [243 133  78]\n",
            "  [244 132  77]\n",
            "  ...\n",
            "  [166  47  14]\n",
            "  [173  51  17]\n",
            "  [182  57  19]]]\n"
          ],
          "name": "stdout"
        }
      ]
    },
    {
      "cell_type": "code",
      "metadata": {
        "id": "3Jm-FwFkQVGN",
        "colab_type": "code",
        "colab": {
          "base_uri": "https://localhost:8080/",
          "height": 34
        },
        "outputId": "aeb135c7-0818-4ba6-ad9c-d06355b9e803"
      },
      "source": [
        "print(y_train[5])"
      ],
      "execution_count": 6,
      "outputs": [
        {
          "output_type": "stream",
          "text": [
            "[1]\n"
          ],
          "name": "stdout"
        }
      ]
    },
    {
      "cell_type": "code",
      "metadata": {
        "id": "bv5vgN11Qf-n",
        "colab_type": "code",
        "colab": {
          "base_uri": "https://localhost:8080/",
          "height": 51
        },
        "outputId": "a2f4b9fe-15d9-4faa-8d23-f2f17858dbf0"
      },
      "source": [
        "#Convert class vectors to binary class metrics\n",
        "print('Before:',y_test[0])\n",
        "\n",
        "num_classes=10\n",
        "y_train = keras.utils.to_categorical(y_train,num_classes)\n",
        "y_test = keras.utils.to_categorical(y_test,num_classes)\n",
        "\n",
        "print('After:',y_test[0])"
      ],
      "execution_count": 7,
      "outputs": [
        {
          "output_type": "stream",
          "text": [
            "Before: [3]\n",
            "After: [0. 0. 0. 1. 0. 0. 0. 0. 0. 0.]\n"
          ],
          "name": "stdout"
        }
      ]
    },
    {
      "cell_type": "code",
      "metadata": {
        "id": "r4AJ7GGa2PSw",
        "colab_type": "code",
        "colab": {}
      },
      "source": [
        "# Normalize data\n",
        "X_train = X_train/255.0\n",
        "x_test = X_test/255.0"
      ],
      "execution_count": 8,
      "outputs": []
    },
    {
      "cell_type": "code",
      "metadata": {
        "id": "agcJuhGYSXrT",
        "colab_type": "code",
        "colab": {}
      },
      "source": [
        "# Create the model\n",
        "model= tf.keras.models.Sequential([tf.keras.layers.Flatten(),\n",
        "                                   tf.keras.layers.Dense(1024, activation=tf.nn.relu),\n",
        "                                   tf.keras.layers.Dense(1024, activation=tf.nn.relu),\n",
        "                                   tf.keras.layers.Dense(10, activation=tf.nn.softmax)])"
      ],
      "execution_count": 9,
      "outputs": []
    },
    {
      "cell_type": "code",
      "metadata": {
        "id": "-reK35W9U5UW",
        "colab_type": "code",
        "colab": {}
      },
      "source": [
        "# Model Compile\n",
        "#sparse_categorical_crossentropy\n",
        "model.compile(loss='binary_crossentropy',\n",
        "              optimizer=RMSprop(learning_rate=.001),\n",
        "              metrics=[\"accuracy\"])"
      ],
      "execution_count": 10,
      "outputs": []
    },
    {
      "cell_type": "code",
      "metadata": {
        "id": "Rw8oigy_XYAq",
        "colab_type": "code",
        "colab": {
          "base_uri": "https://localhost:8080/",
          "height": 1000
        },
        "outputId": "0ff1e753-c0de-4649-cb65-4653d12f676c"
      },
      "source": [
        "# Model training\n",
        "model.fit(X_train,y_train , epochs=100 ,batch_size=10)\n",
        "print(\"Training Completed\")"
      ],
      "execution_count": 11,
      "outputs": [
        {
          "output_type": "stream",
          "text": [
            "Epoch 1/100\n",
            "5000/5000 [==============================] - 13s 3ms/step - loss: 0.3948 - accuracy: 0.2888\n",
            "Epoch 2/100\n",
            "5000/5000 [==============================] - 13s 3ms/step - loss: 0.2699 - accuracy: 0.3497\n",
            "Epoch 3/100\n",
            "5000/5000 [==============================] - 13s 3ms/step - loss: 0.2659 - accuracy: 0.3656\n",
            "Epoch 4/100\n",
            "5000/5000 [==============================] - 12s 2ms/step - loss: 0.2648 - accuracy: 0.3700\n",
            "Epoch 5/100\n",
            "5000/5000 [==============================] - 12s 2ms/step - loss: 0.2657 - accuracy: 0.3706\n",
            "Epoch 6/100\n",
            "5000/5000 [==============================] - 12s 2ms/step - loss: 0.2663 - accuracy: 0.3680\n",
            "Epoch 7/100\n",
            "5000/5000 [==============================] - 13s 3ms/step - loss: 0.2684 - accuracy: 0.3625\n",
            "Epoch 8/100\n",
            "5000/5000 [==============================] - 13s 3ms/step - loss: 0.2693 - accuracy: 0.3588\n",
            "Epoch 9/100\n",
            "5000/5000 [==============================] - 13s 3ms/step - loss: 0.2695 - accuracy: 0.3564\n",
            "Epoch 10/100\n",
            "5000/5000 [==============================] - 13s 3ms/step - loss: 0.2706 - accuracy: 0.3483\n",
            "Epoch 11/100\n",
            "5000/5000 [==============================] - 12s 2ms/step - loss: 0.2701 - accuracy: 0.3555\n",
            "Epoch 12/100\n",
            "5000/5000 [==============================] - 12s 2ms/step - loss: 0.2710 - accuracy: 0.3486\n",
            "Epoch 13/100\n",
            "5000/5000 [==============================] - 13s 3ms/step - loss: 0.2712 - accuracy: 0.3470\n",
            "Epoch 14/100\n",
            "5000/5000 [==============================] - 13s 3ms/step - loss: 0.2720 - accuracy: 0.3482\n",
            "Epoch 15/100\n",
            "5000/5000 [==============================] - 12s 2ms/step - loss: 0.2716 - accuracy: 0.3475\n",
            "Epoch 16/100\n",
            "5000/5000 [==============================] - 12s 2ms/step - loss: 0.2701 - accuracy: 0.3557\n",
            "Epoch 17/100\n",
            "5000/5000 [==============================] - 12s 2ms/step - loss: 0.2688 - accuracy: 0.3586\n",
            "Epoch 18/100\n",
            "5000/5000 [==============================] - 13s 3ms/step - loss: 0.2692 - accuracy: 0.3559\n",
            "Epoch 19/100\n",
            "5000/5000 [==============================] - 13s 3ms/step - loss: 0.2678 - accuracy: 0.3638\n",
            "Epoch 20/100\n",
            "5000/5000 [==============================] - 13s 3ms/step - loss: 0.2689 - accuracy: 0.3644\n",
            "Epoch 21/100\n",
            "5000/5000 [==============================] - 13s 3ms/step - loss: 0.2689 - accuracy: 0.3607\n",
            "Epoch 22/100\n",
            "5000/5000 [==============================] - 13s 3ms/step - loss: 0.2683 - accuracy: 0.3657\n",
            "Epoch 23/100\n",
            "5000/5000 [==============================] - 12s 2ms/step - loss: 0.2682 - accuracy: 0.3609\n",
            "Epoch 24/100\n",
            "5000/5000 [==============================] - 12s 2ms/step - loss: 0.2687 - accuracy: 0.3672\n",
            "Epoch 25/100\n",
            "5000/5000 [==============================] - 12s 2ms/step - loss: 0.2678 - accuracy: 0.3689\n",
            "Epoch 26/100\n",
            "5000/5000 [==============================] - 13s 3ms/step - loss: 0.2673 - accuracy: 0.3725\n",
            "Epoch 27/100\n",
            "5000/5000 [==============================] - 13s 3ms/step - loss: 0.2667 - accuracy: 0.3694\n",
            "Epoch 28/100\n",
            "5000/5000 [==============================] - 13s 3ms/step - loss: 0.2664 - accuracy: 0.3684\n",
            "Epoch 29/100\n",
            "5000/5000 [==============================] - 13s 3ms/step - loss: 0.2672 - accuracy: 0.3683\n",
            "Epoch 30/100\n",
            "5000/5000 [==============================] - 12s 2ms/step - loss: 0.2675 - accuracy: 0.3649\n",
            "Epoch 31/100\n",
            "5000/5000 [==============================] - 13s 3ms/step - loss: 0.2677 - accuracy: 0.3609\n",
            "Epoch 32/100\n",
            "5000/5000 [==============================] - 12s 2ms/step - loss: 0.2665 - accuracy: 0.3673\n",
            "Epoch 33/100\n",
            "5000/5000 [==============================] - 13s 3ms/step - loss: 0.2652 - accuracy: 0.3717\n",
            "Epoch 34/100\n",
            "5000/5000 [==============================] - 13s 3ms/step - loss: 0.2655 - accuracy: 0.3744\n",
            "Epoch 35/100\n",
            "5000/5000 [==============================] - 13s 3ms/step - loss: 0.2663 - accuracy: 0.3729\n",
            "Epoch 36/100\n",
            "5000/5000 [==============================] - 13s 3ms/step - loss: 0.2654 - accuracy: 0.3747\n",
            "Epoch 37/100\n",
            "5000/5000 [==============================] - 13s 3ms/step - loss: 0.2661 - accuracy: 0.3724\n",
            "Epoch 38/100\n",
            "5000/5000 [==============================] - 13s 3ms/step - loss: 0.2664 - accuracy: 0.3728\n",
            "Epoch 39/100\n",
            "5000/5000 [==============================] - 13s 3ms/step - loss: 0.2672 - accuracy: 0.3712\n",
            "Epoch 40/100\n",
            "5000/5000 [==============================] - 12s 2ms/step - loss: 0.2657 - accuracy: 0.3732\n",
            "Epoch 41/100\n",
            "5000/5000 [==============================] - 12s 2ms/step - loss: 0.2646 - accuracy: 0.3752\n",
            "Epoch 42/100\n",
            "5000/5000 [==============================] - 13s 3ms/step - loss: 0.2652 - accuracy: 0.3712\n",
            "Epoch 43/100\n",
            "5000/5000 [==============================] - 12s 2ms/step - loss: 0.2680 - accuracy: 0.3684\n",
            "Epoch 44/100\n",
            "5000/5000 [==============================] - 12s 2ms/step - loss: 0.2667 - accuracy: 0.3706\n",
            "Epoch 45/100\n",
            "5000/5000 [==============================] - 13s 3ms/step - loss: 0.2688 - accuracy: 0.3678\n",
            "Epoch 46/100\n",
            "5000/5000 [==============================] - 13s 3ms/step - loss: 0.2689 - accuracy: 0.3660\n",
            "Epoch 47/100\n",
            "5000/5000 [==============================] - 12s 2ms/step - loss: 0.2692 - accuracy: 0.3602\n",
            "Epoch 48/100\n",
            "5000/5000 [==============================] - 13s 3ms/step - loss: 0.2712 - accuracy: 0.3537\n",
            "Epoch 49/100\n",
            "5000/5000 [==============================] - 12s 2ms/step - loss: 0.2722 - accuracy: 0.3538\n",
            "Epoch 50/100\n",
            "5000/5000 [==============================] - 12s 2ms/step - loss: 0.2739 - accuracy: 0.3490\n",
            "Epoch 51/100\n",
            "5000/5000 [==============================] - 12s 2ms/step - loss: 0.2735 - accuracy: 0.3490\n",
            "Epoch 52/100\n",
            "5000/5000 [==============================] - 13s 3ms/step - loss: 0.2745 - accuracy: 0.3465\n",
            "Epoch 53/100\n",
            "5000/5000 [==============================] - 12s 2ms/step - loss: 0.2744 - accuracy: 0.3464\n",
            "Epoch 54/100\n",
            "5000/5000 [==============================] - 12s 2ms/step - loss: 0.2737 - accuracy: 0.3468\n",
            "Epoch 55/100\n",
            "5000/5000 [==============================] - 12s 2ms/step - loss: 0.2740 - accuracy: 0.3505\n",
            "Epoch 56/100\n",
            "5000/5000 [==============================] - 12s 2ms/step - loss: 0.2742 - accuracy: 0.3485\n",
            "Epoch 57/100\n",
            "5000/5000 [==============================] - 12s 2ms/step - loss: 0.2726 - accuracy: 0.3511\n",
            "Epoch 58/100\n",
            "5000/5000 [==============================] - 13s 3ms/step - loss: 0.2724 - accuracy: 0.3515\n",
            "Epoch 59/100\n",
            "5000/5000 [==============================] - 13s 3ms/step - loss: 0.2709 - accuracy: 0.3533\n",
            "Epoch 60/100\n",
            "5000/5000 [==============================] - 13s 3ms/step - loss: 0.2725 - accuracy: 0.3525\n",
            "Epoch 61/100\n",
            "5000/5000 [==============================] - 13s 3ms/step - loss: 0.2708 - accuracy: 0.3577\n",
            "Epoch 62/100\n",
            "5000/5000 [==============================] - 12s 2ms/step - loss: 0.2713 - accuracy: 0.3579\n",
            "Epoch 63/100\n",
            "5000/5000 [==============================] - 12s 2ms/step - loss: 0.2706 - accuracy: 0.3569\n",
            "Epoch 64/100\n",
            "5000/5000 [==============================] - 12s 2ms/step - loss: 0.2710 - accuracy: 0.3562\n",
            "Epoch 65/100\n",
            "5000/5000 [==============================] - 13s 3ms/step - loss: 0.2713 - accuracy: 0.3566\n",
            "Epoch 66/100\n",
            "5000/5000 [==============================] - 12s 2ms/step - loss: 0.2694 - accuracy: 0.3563\n",
            "Epoch 67/100\n",
            "5000/5000 [==============================] - 12s 2ms/step - loss: 0.2702 - accuracy: 0.3614\n",
            "Epoch 68/100\n",
            "5000/5000 [==============================] - 12s 2ms/step - loss: 0.2690 - accuracy: 0.3591\n",
            "Epoch 69/100\n",
            "5000/5000 [==============================] - 12s 2ms/step - loss: 0.2693 - accuracy: 0.3592\n",
            "Epoch 70/100\n",
            "5000/5000 [==============================] - 12s 2ms/step - loss: 0.2697 - accuracy: 0.3587\n",
            "Epoch 71/100\n",
            "5000/5000 [==============================] - 13s 3ms/step - loss: 0.2691 - accuracy: 0.3623\n",
            "Epoch 72/100\n",
            "5000/5000 [==============================] - 12s 2ms/step - loss: 0.2698 - accuracy: 0.3610\n",
            "Epoch 73/100\n",
            "5000/5000 [==============================] - 12s 2ms/step - loss: 0.2682 - accuracy: 0.3632\n",
            "Epoch 74/100\n",
            "5000/5000 [==============================] - 12s 2ms/step - loss: 0.2693 - accuracy: 0.3625\n",
            "Epoch 75/100\n",
            "5000/5000 [==============================] - 13s 3ms/step - loss: 0.2688 - accuracy: 0.3632\n",
            "Epoch 76/100\n",
            "5000/5000 [==============================] - 13s 3ms/step - loss: 0.2684 - accuracy: 0.3618\n",
            "Epoch 77/100\n",
            "5000/5000 [==============================] - 13s 3ms/step - loss: 0.2697 - accuracy: 0.3607\n",
            "Epoch 78/100\n",
            "5000/5000 [==============================] - 13s 3ms/step - loss: 0.2691 - accuracy: 0.3665\n",
            "Epoch 79/100\n",
            "5000/5000 [==============================] - 12s 2ms/step - loss: 0.2695 - accuracy: 0.3628\n",
            "Epoch 80/100\n",
            "5000/5000 [==============================] - 12s 2ms/step - loss: 0.2663 - accuracy: 0.3644\n",
            "Epoch 81/100\n",
            "5000/5000 [==============================] - 12s 2ms/step - loss: 0.2682 - accuracy: 0.3641\n",
            "Epoch 82/100\n",
            "5000/5000 [==============================] - 12s 2ms/step - loss: 0.2687 - accuracy: 0.3648\n",
            "Epoch 83/100\n",
            "5000/5000 [==============================] - 12s 2ms/step - loss: 0.2691 - accuracy: 0.3655\n",
            "Epoch 84/100\n",
            "5000/5000 [==============================] - 14s 3ms/step - loss: 0.2677 - accuracy: 0.3665\n",
            "Epoch 85/100\n",
            "5000/5000 [==============================] - 12s 2ms/step - loss: 0.2669 - accuracy: 0.3678\n",
            "Epoch 86/100\n",
            "5000/5000 [==============================] - 13s 3ms/step - loss: 0.2664 - accuracy: 0.3651\n",
            "Epoch 87/100\n",
            "5000/5000 [==============================] - 12s 2ms/step - loss: 0.2674 - accuracy: 0.3660\n",
            "Epoch 88/100\n",
            "5000/5000 [==============================] - 12s 2ms/step - loss: 0.2674 - accuracy: 0.3683\n",
            "Epoch 89/100\n",
            "5000/5000 [==============================] - 13s 3ms/step - loss: 0.2675 - accuracy: 0.3663\n",
            "Epoch 90/100\n",
            "5000/5000 [==============================] - 13s 3ms/step - loss: 0.2677 - accuracy: 0.3676\n",
            "Epoch 91/100\n",
            "5000/5000 [==============================] - 13s 3ms/step - loss: 0.2664 - accuracy: 0.3711\n",
            "Epoch 92/100\n",
            "5000/5000 [==============================] - 12s 2ms/step - loss: 0.2652 - accuracy: 0.3710\n",
            "Epoch 93/100\n",
            "5000/5000 [==============================] - 12s 2ms/step - loss: 0.2667 - accuracy: 0.3698\n",
            "Epoch 94/100\n",
            "5000/5000 [==============================] - 12s 2ms/step - loss: 0.2665 - accuracy: 0.3719\n",
            "Epoch 95/100\n",
            "5000/5000 [==============================] - 12s 2ms/step - loss: 0.2662 - accuracy: 0.3738\n",
            "Epoch 96/100\n",
            "5000/5000 [==============================] - 12s 2ms/step - loss: 0.2667 - accuracy: 0.3720\n",
            "Epoch 97/100\n",
            "5000/5000 [==============================] - 13s 3ms/step - loss: 0.2661 - accuracy: 0.3709\n",
            "Epoch 98/100\n",
            "5000/5000 [==============================] - 12s 2ms/step - loss: 0.2674 - accuracy: 0.3677\n",
            "Epoch 99/100\n",
            "5000/5000 [==============================] - 12s 2ms/step - loss: 0.2671 - accuracy: 0.3726\n",
            "Epoch 100/100\n",
            "5000/5000 [==============================] - 12s 2ms/step - loss: 0.2673 - accuracy: 0.3719\n",
            "Training Completed\n"
          ],
          "name": "stdout"
        }
      ]
    },
    {
      "cell_type": "markdown",
      "metadata": {
        "id": "0mrfKW_VZQ66",
        "colab_type": "text"
      },
      "source": [
        "##Test train model"
      ]
    },
    {
      "cell_type": "code",
      "metadata": {
        "id": "EPMprozT24Zf",
        "colab_type": "code",
        "colab": {}
      },
      "source": [
        "# Prediction"
      ],
      "execution_count": 12,
      "outputs": []
    },
    {
      "cell_type": "code",
      "metadata": {
        "id": "WggbhUMdXfuS",
        "colab_type": "code",
        "colab": {}
      },
      "source": [
        "# Importing Liabaries\n",
        "import numpy as np\n",
        "from google.colab import files\n",
        "from keras.preprocessing import image"
      ],
      "execution_count": 13,
      "outputs": []
    },
    {
      "cell_type": "code",
      "metadata": {
        "id": "bTYbkipPX-Dh",
        "colab_type": "code",
        "colab": {
          "base_uri": "https://localhost:8080/",
          "height": 34
        },
        "outputId": "f12f0d41-7d8c-4606-b1c5-37c0188b9d1c"
      },
      "source": [
        "!pwd   "
      ],
      "execution_count": 14,
      "outputs": [
        {
          "output_type": "stream",
          "text": [
            "/content\n"
          ],
          "name": "stdout"
        }
      ]
    },
    {
      "cell_type": "code",
      "metadata": {
        "id": "DO6qnQPdYKkA",
        "colab_type": "code",
        "colab": {
          "resources": {
            "http://localhost:8080/nbextensions/google.colab/files.js": {
              "data": "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",
              "ok": true,
              "headers": [
                [
                  "content-type",
                  "application/javascript"
                ]
              ],
              "status": 200,
              "status_text": ""
            }
          },
          "base_uri": "https://localhost:8080/",
          "height": 123
        },
        "outputId": "71319148-9b61-4e7f-ccb1-0b63407f21a5"
      },
      "source": [
        "upload=files.upload()\n",
        "for f in upload.keys():\n",
        "\n",
        "  path='/content/'+f\n",
        "  img=image.load_img(path, target_size=(32,32))\n",
        "  X=image.img_to_array(img)\n",
        "  X=np.expand_dims(X, axis=0)\n",
        "\n",
        "  images=np.vstack([X])\n",
        "  classes=model.predict(images, batch_size=100)\n",
        "  print(classes)\n",
        "\n",
        "classes2=np.argmax(classes,axis=1)\n",
        "\n",
        "if classes2[0]==0:\n",
        "  print('Airplone')\n",
        "elif classes2[0]==1:\n",
        "  print('Automobile')\n",
        "elif classes2[0]==2:\n",
        "  print('Bird')\n",
        "elif classes2[0]==3:\n",
        "  print('Cat')\n",
        "elif classes2[0]==4:\n",
        "  print('Deer')\n",
        "elif classes2[0]==5:\n",
        "  print('Dog')\n",
        "elif classes2[0]==6:\n",
        "  print('Frogh')\n",
        "elif classes2[0]==7:\n",
        "  print('Horse')\n",
        "elif classes2[0]==8:\n",
        "  print('Ship')\n",
        "elif classes2[0]==9:\n",
        "  print('Truck')\n",
        "else:\n",
        "  print(\"Can't be Found\")"
      ],
      "execution_count": 20,
      "outputs": [
        {
          "output_type": "display_data",
          "data": {
            "text/html": [
              "\n",
              "     <input type=\"file\" id=\"files-a0b81688-801e-49b6-8b16-7fe65ce7a009\" name=\"files[]\" multiple disabled\n",
              "        style=\"border:none\" />\n",
              "     <output id=\"result-a0b81688-801e-49b6-8b16-7fe65ce7a009\">\n",
              "      Upload widget is only available when the cell has been executed in the\n",
              "      current browser session. Please rerun this cell to enable.\n",
              "      </output>\n",
              "      <script src=\"/nbextensions/google.colab/files.js\"></script> "
            ],
            "text/plain": [
              "<IPython.core.display.HTML object>"
            ]
          },
          "metadata": {
            "tags": []
          }
        },
        {
          "output_type": "stream",
          "text": [
            "Saving Airplane.jpg to Airplane (1).jpg\n",
            "[[1.000000e+00 0.000000e+00 0.000000e+00 0.000000e+00 0.000000e+00\n",
            "  0.000000e+00 0.000000e+00 0.000000e+00 6.201885e-35 0.000000e+00]]\n",
            "Airplone\n"
          ],
          "name": "stdout"
        }
      ]
    },
    {
      "cell_type": "code",
      "metadata": {
        "id": "6S7nDTSFYO20",
        "colab_type": "code",
        "colab": {}
      },
      "source": [
        ""
      ],
      "execution_count": null,
      "outputs": []
    }
  ]
}