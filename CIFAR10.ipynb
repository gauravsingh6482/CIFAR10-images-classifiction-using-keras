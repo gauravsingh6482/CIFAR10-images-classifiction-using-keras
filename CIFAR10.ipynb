{
  "nbformat": 4,
  "nbformat_minor": 0,
  "metadata": {
    "colab": {
      "name": "CIFAR10(2).ipynb",
      "provenance": []
    },
    "kernelspec": {
      "name": "python3",
      "display_name": "Python 3"
    }
  },
  "cells": [
    {
      "cell_type": "markdown",
      "metadata": {
        "id": "0UD3NR8tP213",
        "colab_type": "text"
      },
      "source": [
        "# Image classifiction using CIFAR10 dataset"
      ]
    },
    {
      "cell_type": "markdown",
      "metadata": {
        "id": "o97o9qs8QG1_",
        "colab_type": "text"
      },
      "source": [
        "##In this project we are train our Convolutional Neural Networks (Deep learning) model. we are using in this project CIRAR10 image dataset "
      ]
    },
    {
      "cell_type": "code",
      "metadata": {
        "id": "kWRYiUsukaNH",
        "colab_type": "code",
        "colab": {
          "base_uri": "https://localhost:8080/",
          "height": 35
        },
        "outputId": "fa7b9335-1cdf-4386-f091-11ee9725b9ff"
      },
      "source": [
        "# Importing Libaries\n",
        "import keras \n",
        "import tensorflow as tf\n",
        "from keras.models import Sequential\n",
        "from keras.layers import Dense ,Flatten , Dropout\n",
        "from keras.layers import Conv2D , MaxPool2D\n",
        "from keras.losses import sparse_categorical_crossentropy\n",
        "from keras.optimizers import Adam\n",
        "import matplotlib.pyplot as plt"
      ],
      "execution_count": null,
      "outputs": [
        {
          "output_type": "stream",
          "text": [
            "Using TensorFlow backend.\n"
          ],
          "name": "stderr"
        }
      ]
    },
    {
      "cell_type": "code",
      "metadata": {
        "id": "0iUSUUAXksRC",
        "colab_type": "code",
        "colab": {}
      },
      "source": [
        "# Load CIFAR-100 data\n",
        "from keras.datasets import cifar10"
      ],
      "execution_count": null,
      "outputs": []
    },
    {
      "cell_type": "code",
      "metadata": {
        "id": "eD7Q3O0XksOO",
        "colab_type": "code",
        "colab": {
          "base_uri": "https://localhost:8080/",
          "height": 54
        },
        "outputId": "9dcac784-09cb-406c-813e-183e426cb026"
      },
      "source": [
        "# Split the dataset\n",
        "(X_train,y_train),(X_test,y_test)=cifar10.load_data()"
      ],
      "execution_count": null,
      "outputs": [
        {
          "output_type": "stream",
          "text": [
            "Downloading data from https://www.cs.toronto.edu/~kriz/cifar-10-python.tar.gz\n",
            "170500096/170498071 [==============================] - 2s 0us/step\n"
          ],
          "name": "stdout"
        }
      ]
    },
    {
      "cell_type": "code",
      "metadata": {
        "id": "9tyA9f6sm1Mc",
        "colab_type": "code",
        "colab": {
          "base_uri": "https://localhost:8080/",
          "height": 35
        },
        "outputId": "83d7a281-82ed-4cbb-84e7-e7a93d987ff1"
      },
      "source": [
        "print(X_train.shape)"
      ],
      "execution_count": null,
      "outputs": [
        {
          "output_type": "stream",
          "text": [
            "(50000, 32, 32, 3)\n"
          ],
          "name": "stdout"
        }
      ]
    },
    {
      "cell_type": "code",
      "metadata": {
        "id": "gekyNyeXksL1",
        "colab_type": "code",
        "colab": {}
      },
      "source": [
        "# Determine shape of the data\n",
        "img_width , img_height , img_num_channels=32 ,32, 3"
      ],
      "execution_count": null,
      "outputs": []
    },
    {
      "cell_type": "code",
      "metadata": {
        "id": "_RqxjtYWksIh",
        "colab_type": "code",
        "colab": {}
      },
      "source": [
        "input_shape=(img_width , img_height , img_num_channels)"
      ],
      "execution_count": null,
      "outputs": []
    },
    {
      "cell_type": "code",
      "metadata": {
        "id": "Se7Zd-eFk1Mm",
        "colab_type": "code",
        "colab": {}
      },
      "source": [
        "# Parse numbers as floats\n",
        "X_train = X_train.astype('float32')\n",
        "X_test = X_test.astype('float32')"
      ],
      "execution_count": null,
      "outputs": []
    },
    {
      "cell_type": "code",
      "metadata": {
        "id": "TCRiNXGDk1bh",
        "colab_type": "code",
        "colab": {}
      },
      "source": [
        "# Normalize data\n",
        "X_train=X_train/255\n",
        "X_test=X_test/255\n",
        "\n",
        "num_classes=100"
      ],
      "execution_count": null,
      "outputs": []
    },
    {
      "cell_type": "code",
      "metadata": {
        "id": "ULUOtzrok19H",
        "colab_type": "code",
        "colab": {}
      },
      "source": [
        "# Create the model\n",
        "model=Sequential()\n",
        "model.add(Conv2D(32, kernel_size=(3,3), activation='relu',input_shape=input_shape))\n",
        "model.add(MaxPool2D(pool_size=(2,2)))\n",
        "model.add(Conv2D(64,kernel_size=(3,3),activation='relu'))\n",
        "model.add(MaxPool2D(pool_size=(2,2)))\n",
        "model.add(Conv2D(128,kernel_size=(3,3),activation='relu'))\n",
        "model.add(MaxPool2D(pool_size=(2,2)))\n",
        "model.add(Flatten())\n",
        "model.add(Dropout(0.5))\n",
        "model.add(Dense(256,activation='relu'))\n",
        "model.add(Dense(128,activation='relu'))\n",
        "model.add(Dense(num_classes,activation='softmax'))"
      ],
      "execution_count": null,
      "outputs": []
    },
    {
      "cell_type": "code",
      "metadata": {
        "id": "GeyMwnmek15r",
        "colab_type": "code",
        "colab": {}
      },
      "source": [
        "# Compile the model\n",
        "model.compile(loss=sparse_categorical_crossentropy, optimizer=Adam(), metrics=['accuracy'])"
      ],
      "execution_count": null,
      "outputs": []
    },
    {
      "cell_type": "code",
      "metadata": {
        "id": "WZbFJhurk11g",
        "colab_type": "code",
        "colab": {
          "base_uri": "https://localhost:8080/",
          "height": 1000
        },
        "outputId": "2719e34e-f672-4c9b-cfdc-233c9786eaa0"
      },
      "source": [
        "# Fit data to model\n",
        "history=model.fit(X_train , y_train , batch_size=50 , epochs=50, verbose=1, validation_split=0.2)\n",
        "print(\"Training Completed\")"
      ],
      "execution_count": null,
      "outputs": [
        {
          "output_type": "stream",
          "text": [
            "Train on 40000 samples, validate on 10000 samples\n",
            "Epoch 1/50\n",
            "40000/40000 [==============================] - 60s 1ms/step - loss: 1.2627 - accuracy: 0.5478 - val_loss: 1.1348 - val_accuracy: 0.5989\n",
            "Epoch 2/50\n",
            "40000/40000 [==============================] - 60s 1ms/step - loss: 1.1661 - accuracy: 0.5830 - val_loss: 1.0639 - val_accuracy: 0.6296\n",
            "Epoch 3/50\n",
            "40000/40000 [==============================] - 60s 1ms/step - loss: 1.0883 - accuracy: 0.6141 - val_loss: 1.0942 - val_accuracy: 0.6215\n",
            "Epoch 4/50\n",
            "40000/40000 [==============================] - 60s 1ms/step - loss: 1.0331 - accuracy: 0.6318 - val_loss: 0.9391 - val_accuracy: 0.6681\n",
            "Epoch 5/50\n",
            "40000/40000 [==============================] - 60s 1ms/step - loss: 0.9845 - accuracy: 0.6500 - val_loss: 0.9181 - val_accuracy: 0.6826\n",
            "Epoch 6/50\n",
            "40000/40000 [==============================] - 60s 1ms/step - loss: 0.9458 - accuracy: 0.6647 - val_loss: 0.9084 - val_accuracy: 0.6818\n",
            "Epoch 7/50\n",
            "40000/40000 [==============================] - 60s 1ms/step - loss: 0.9118 - accuracy: 0.6751 - val_loss: 0.8566 - val_accuracy: 0.7028\n",
            "Epoch 8/50\n",
            "40000/40000 [==============================] - 60s 1ms/step - loss: 0.8781 - accuracy: 0.6895 - val_loss: 0.8427 - val_accuracy: 0.7022\n",
            "Epoch 9/50\n",
            "40000/40000 [==============================] - 60s 2ms/step - loss: 0.8514 - accuracy: 0.7001 - val_loss: 0.8051 - val_accuracy: 0.7197\n",
            "Epoch 10/50\n",
            "40000/40000 [==============================] - 60s 1ms/step - loss: 0.8241 - accuracy: 0.7074 - val_loss: 0.8063 - val_accuracy: 0.7163\n",
            "Epoch 11/50\n",
            "40000/40000 [==============================] - 59s 1ms/step - loss: 0.7968 - accuracy: 0.7179 - val_loss: 0.8587 - val_accuracy: 0.7031\n",
            "Epoch 12/50\n",
            "40000/40000 [==============================] - 60s 1ms/step - loss: 0.7837 - accuracy: 0.7217 - val_loss: 0.7789 - val_accuracy: 0.7364\n",
            "Epoch 13/50\n",
            "40000/40000 [==============================] - 59s 1ms/step - loss: 0.7537 - accuracy: 0.7325 - val_loss: 0.7838 - val_accuracy: 0.7282\n",
            "Epoch 14/50\n",
            "40000/40000 [==============================] - 59s 1ms/step - loss: 0.7488 - accuracy: 0.7353 - val_loss: 0.7752 - val_accuracy: 0.7283\n",
            "Epoch 15/50\n",
            "40000/40000 [==============================] - 59s 1ms/step - loss: 0.7358 - accuracy: 0.7398 - val_loss: 0.7747 - val_accuracy: 0.7340\n",
            "Epoch 16/50\n",
            "40000/40000 [==============================] - 59s 1ms/step - loss: 0.7092 - accuracy: 0.7489 - val_loss: 0.7622 - val_accuracy: 0.7416\n",
            "Epoch 17/50\n",
            "40000/40000 [==============================] - 59s 1ms/step - loss: 0.6988 - accuracy: 0.7524 - val_loss: 0.7670 - val_accuracy: 0.7348\n",
            "Epoch 18/50\n",
            "40000/40000 [==============================] - 60s 2ms/step - loss: 0.6900 - accuracy: 0.7549 - val_loss: 0.7799 - val_accuracy: 0.7300\n",
            "Epoch 19/50\n",
            "40000/40000 [==============================] - 59s 1ms/step - loss: 0.6803 - accuracy: 0.7613 - val_loss: 0.7750 - val_accuracy: 0.7314\n",
            "Epoch 20/50\n",
            "40000/40000 [==============================] - 60s 1ms/step - loss: 0.6601 - accuracy: 0.7657 - val_loss: 0.7764 - val_accuracy: 0.7341\n",
            "Epoch 21/50\n",
            "40000/40000 [==============================] - 60s 1ms/step - loss: 0.6431 - accuracy: 0.7710 - val_loss: 0.7841 - val_accuracy: 0.7298\n",
            "Epoch 22/50\n",
            "40000/40000 [==============================] - 59s 1ms/step - loss: 0.6483 - accuracy: 0.7713 - val_loss: 0.7534 - val_accuracy: 0.7402\n",
            "Epoch 23/50\n",
            "40000/40000 [==============================] - 60s 2ms/step - loss: 0.6323 - accuracy: 0.7758 - val_loss: 0.7521 - val_accuracy: 0.7415\n",
            "Epoch 24/50\n",
            "40000/40000 [==============================] - 60s 1ms/step - loss: 0.6232 - accuracy: 0.7787 - val_loss: 0.7611 - val_accuracy: 0.7417\n",
            "Epoch 25/50\n",
            "40000/40000 [==============================] - 60s 1ms/step - loss: 0.6101 - accuracy: 0.7821 - val_loss: 0.7510 - val_accuracy: 0.7414\n",
            "Epoch 26/50\n",
            "40000/40000 [==============================] - 59s 1ms/step - loss: 0.6014 - accuracy: 0.7869 - val_loss: 0.7602 - val_accuracy: 0.7403\n",
            "Epoch 27/50\n",
            "40000/40000 [==============================] - 59s 1ms/step - loss: 0.6052 - accuracy: 0.7850 - val_loss: 0.7453 - val_accuracy: 0.7505\n",
            "Epoch 28/50\n",
            "40000/40000 [==============================] - 60s 1ms/step - loss: 0.5869 - accuracy: 0.7916 - val_loss: 0.7212 - val_accuracy: 0.7527\n",
            "Epoch 29/50\n",
            "40000/40000 [==============================] - 59s 1ms/step - loss: 0.5807 - accuracy: 0.7942 - val_loss: 0.7486 - val_accuracy: 0.7447\n",
            "Epoch 30/50\n",
            "40000/40000 [==============================] - 60s 1ms/step - loss: 0.5734 - accuracy: 0.7959 - val_loss: 0.7294 - val_accuracy: 0.7539\n",
            "Epoch 31/50\n",
            "40000/40000 [==============================] - 59s 1ms/step - loss: 0.5699 - accuracy: 0.7984 - val_loss: 0.7465 - val_accuracy: 0.7484\n",
            "Epoch 32/50\n",
            "40000/40000 [==============================] - 60s 1ms/step - loss: 0.5514 - accuracy: 0.8022 - val_loss: 0.7221 - val_accuracy: 0.7534\n",
            "Epoch 33/50\n",
            "40000/40000 [==============================] - 60s 2ms/step - loss: 0.5514 - accuracy: 0.8044 - val_loss: 0.7394 - val_accuracy: 0.7539\n",
            "Epoch 34/50\n",
            "40000/40000 [==============================] - 60s 2ms/step - loss: 0.5402 - accuracy: 0.8049 - val_loss: 0.7634 - val_accuracy: 0.7450\n",
            "Epoch 35/50\n",
            "40000/40000 [==============================] - 60s 2ms/step - loss: 0.5419 - accuracy: 0.8054 - val_loss: 0.7465 - val_accuracy: 0.7473\n",
            "Epoch 36/50\n",
            "40000/40000 [==============================] - 60s 2ms/step - loss: 0.5355 - accuracy: 0.8062 - val_loss: 0.7246 - val_accuracy: 0.7567\n",
            "Epoch 37/50\n",
            "40000/40000 [==============================] - 60s 2ms/step - loss: 0.5258 - accuracy: 0.8109 - val_loss: 0.7392 - val_accuracy: 0.7508\n",
            "Epoch 38/50\n",
            "40000/40000 [==============================] - 60s 2ms/step - loss: 0.5273 - accuracy: 0.8109 - val_loss: 0.7436 - val_accuracy: 0.7498\n",
            "Epoch 39/50\n",
            "40000/40000 [==============================] - 60s 1ms/step - loss: 0.5214 - accuracy: 0.8129 - val_loss: 0.7308 - val_accuracy: 0.7536\n",
            "Epoch 40/50\n",
            "40000/40000 [==============================] - 59s 1ms/step - loss: 0.5200 - accuracy: 0.8165 - val_loss: 0.7734 - val_accuracy: 0.7440\n",
            "Epoch 41/50\n",
            "40000/40000 [==============================] - 59s 1ms/step - loss: 0.5083 - accuracy: 0.8184 - val_loss: 0.7419 - val_accuracy: 0.7518\n",
            "Epoch 42/50\n",
            "40000/40000 [==============================] - 59s 1ms/step - loss: 0.5018 - accuracy: 0.8195 - val_loss: 0.7268 - val_accuracy: 0.7573\n",
            "Epoch 43/50\n",
            "40000/40000 [==============================] - 58s 1ms/step - loss: 0.4960 - accuracy: 0.8217 - val_loss: 0.7884 - val_accuracy: 0.7426\n",
            "Epoch 44/50\n",
            "40000/40000 [==============================] - 60s 1ms/step - loss: 0.4900 - accuracy: 0.8227 - val_loss: 0.7422 - val_accuracy: 0.7562\n",
            "Epoch 45/50\n",
            "40000/40000 [==============================] - 59s 1ms/step - loss: 0.4881 - accuracy: 0.8258 - val_loss: 0.7408 - val_accuracy: 0.7521\n",
            "Epoch 46/50\n",
            "40000/40000 [==============================] - 59s 1ms/step - loss: 0.4818 - accuracy: 0.8258 - val_loss: 0.7347 - val_accuracy: 0.7526\n",
            "Epoch 47/50\n",
            "40000/40000 [==============================] - 64s 2ms/step - loss: 0.4836 - accuracy: 0.8260 - val_loss: 0.7419 - val_accuracy: 0.7530\n",
            "Epoch 48/50\n",
            "40000/40000 [==============================] - 60s 1ms/step - loss: 0.4799 - accuracy: 0.8293 - val_loss: 0.7322 - val_accuracy: 0.7610\n",
            "Epoch 49/50\n",
            "40000/40000 [==============================] - 60s 2ms/step - loss: 0.4741 - accuracy: 0.8296 - val_loss: 0.7312 - val_accuracy: 0.7566\n",
            "Epoch 50/50\n",
            "37350/40000 [===========================>..] - ETA: 3s - loss: 0.4791 - accuracy: 0.8266"
          ],
          "name": "stdout"
        }
      ]
    },
    {
      "cell_type": "code",
      "metadata": {
        "id": "sTOlyxu6k1y5",
        "colab_type": "code",
        "colab": {
          "base_uri": "https://localhost:8080/",
          "height": 35
        },
        "outputId": "4a984038-a270-461b-f0df-72ad8d7851ec"
      },
      "source": [
        "# Generate generalization metrics\n",
        "score = model.evaluate(X_test, y_test, verbose=0)\n",
        "print(f'Test loss: {score[0]} / Test accuracy: {score[1]}')"
      ],
      "execution_count": null,
      "outputs": [
        {
          "output_type": "stream",
          "text": [
            "Test loss: 0.796327895784378 / Test accuracy: 0.7549999952316284\n"
          ],
          "name": "stdout"
        }
      ]
    },
    {
      "cell_type": "code",
      "metadata": {
        "id": "0H66BiFlk1wL",
        "colab_type": "code",
        "colab": {
          "base_uri": "https://localhost:8080/",
          "height": 295
        },
        "outputId": "d55193a8-270f-4160-ffff-5ff7d9e24c9c"
      },
      "source": [
        "# Visualize history\n",
        "# Plot history: Loss\n",
        "plt.plot(history.history['val_loss'])\n",
        "plt.title('Validation loss history')\n",
        "plt.ylabel('Loss value')\n",
        "plt.xlabel('No. epoch')\n",
        "plt.show()"
      ],
      "execution_count": null,
      "outputs": [
        {
          "output_type": "display_data",
          "data": {
            "image/png": "[encoded data removed]",
            "text/plain": [
              "<Figure size 432x288 with 1 Axes>"
            ]
          },
          "metadata": {
            "tags": [],
            "needs_background": "light"
          }
        }
      ]
    },
    {
      "cell_type": "code",
      "metadata": {
        "id": "wByCJlUck1t4",
        "colab_type": "code",
        "colab": {
          "base_uri": "https://localhost:8080/",
          "height": 295
        },
        "outputId": "645976d0-9e69-4f28-c733-c720a73139c0"
      },
      "source": [
        "# Plot history: Accuracy\n",
        "plt.plot(history.history['val_accuracy'])\n",
        "plt.title('Validation accuracy history')\n",
        "plt.ylabel('Accuracy value (%)')\n",
        "plt.xlabel('No. epoch')\n",
        "plt.show()\n"
      ],
      "execution_count": null,
      "outputs": [
        {
          "output_type": "display_data",
          "data": {
            "image/png": "[encoded data removed]",
            "text/plain": [
              "<Figure size 432x288 with 1 Axes>"
            ]
          },
          "metadata": {
            "tags": [],
            "needs_background": "light"
          }
        }
      ]
    },
    {
      "cell_type": "code",
      "metadata": {
        "id": "KV-OWbX8rSdd",
        "colab_type": "code",
        "colab": {}
      },
      "source": [
        ""
      ],
      "execution_count": null,
      "outputs": []
    }
  ]
}